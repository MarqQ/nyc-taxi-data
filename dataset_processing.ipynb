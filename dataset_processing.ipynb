{
 "cells": [
  {
   "cell_type": "code",
   "execution_count": null,
   "id": "a9766a92",
   "metadata": {},
   "outputs": [],
   "source": [
    "import psycopg2\n",
    "import psycopg2.extras\n",
    "from sqlalchemy import create_engine \n",
    "import numpy as np\n",
    "import pandas as pd"
   ]
  },
  {
   "cell_type": "code",
   "execution_count": null,
   "id": "2cfcdb06",
   "metadata": {},
   "outputs": [],
   "source": [
    "conn = psycopg2.connect(dbname=\"nyc_taxi\", user=\"postgres\", password=\"123456789\")\n",
    "\n",
    "cur = conn.cursor( )"
   ]
  },
  {
   "cell_type": "code",
   "execution_count": null,
   "id": "3534d880",
   "metadata": {},
   "outputs": [],
   "source": [
    "addr_df=pd.read_csv('dataset/yellow_tripdata_2020-01.csv', low_memory=False)\n",
    "addr_df.reset_index(drop=True,inplace=True)\n",
    "addr_df.head()"
   ]
  },
  {
   "cell_type": "code",
   "execution_count": null,
   "id": "930e4fd2",
   "metadata": {},
   "outputs": [],
   "source": [
    "def create_staging_table(cursor):\n",
    "    cursor.execute(\"\"\"\n",
    "        DROP TABLE IF EXISTS nyc_cab_data;\n",
    "        CREATE UNLOGGED TABLE nyc_cab_data (\n",
    "            VendorID         INTEGER,\n",
    "            tpep_pickup_datetime               TIMESTAMP,\n",
    "            tpep_dropoff_datetime          TIMESTAMP,\n",
    "            passenger_count           DECIMAL,\n",
    "            trip_distance       DECIMAL,\n",
    "            RatecodeID       DECIMAL,\n",
    "            store_and_fwd_flag       TEXT,\n",
    "            PULocationID       INTEGER,\n",
    "            DOLocationID       INTEGER,\n",
    "            payment_type       DECIMAL,\n",
    "            fare_amount       DECIMAL,\n",
    "            extra       DECIMAL,\n",
    "            mta_tax       DECIMAL,\n",
    "            tip_amount       DECIMAL,\n",
    "            tolls_amount       DECIMAL,\n",
    "            improvement_surcharge       DECIMAL,\n",
    "            total_amount       DECIMAL,\n",
    "            congestion_surcharge       DECIMAL\n",
    "        );\"\"\")"
   ]
  },
  {
   "cell_type": "code",
   "execution_count": null,
   "id": "7342cb68",
   "metadata": {},
   "outputs": [],
   "source": [
    "with conn.cursor() as cursor:\n",
    "    create_staging_table(cursor)"
   ]
  },
  {
   "cell_type": "code",
   "execution_count": null,
   "id": "fbb67329",
   "metadata": {},
   "outputs": [],
   "source": [
    "def send_csv_to_psql(connection,csv,table_):\n",
    "    sql = \"COPY %s FROM STDIN WITH CSV HEADER DELIMITER AS ','\"\n",
    "    file = open(csv, \"r\")\n",
    "    table = table_\n",
    "    with connection.cursor() as cur:\n",
    "        cur.execute(\"truncate \" + table + \";\")  #avoiding uploading duplicate data!\n",
    "        cur.copy_expert(sql=sql % table, file=file)\n",
    "        connection.commit()\n",
    "#         cur.close()\n",
    "#         connection.close()\n",
    "    return connection.commit()\n",
    "\n",
    "send_csv_to_psql(conn,'dataset/yellow_tripdata_2020-01.csv','nyc_cab_data')"
   ]
  }
 ],
 "metadata": {
  "kernelspec": {
   "display_name": "Python 3 (ipykernel)",
   "language": "python",
   "name": "python3"
  },
  "language_info": {
   "codemirror_mode": {
    "name": "ipython",
    "version": 3
   },
   "file_extension": ".py",
   "mimetype": "text/x-python",
   "name": "python",
   "nbconvert_exporter": "python",
   "pygments_lexer": "ipython3",
   "version": "3.9.6"
  }
 },
 "nbformat": 4,
 "nbformat_minor": 5
}
